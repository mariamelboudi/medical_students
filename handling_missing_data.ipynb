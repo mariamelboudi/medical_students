{
 "cells": [
  {
   "cell_type": "code",
   "execution_count": 51,
   "id": "719fc198",
   "metadata": {},
   "outputs": [
    {
     "name": "stdout",
     "output_type": "stream",
     "text": [
      "<class 'pandas.core.frame.DataFrame'>\n",
      "RangeIndex: 200000 entries, 0 to 199999\n",
      "Data columns (total 13 columns):\n",
      " #   Column          Non-Null Count   Dtype  \n",
      "---  ------          --------------   -----  \n",
      " 0   Student ID      180000 non-null  float64\n",
      " 1   Age             180000 non-null  float64\n",
      " 2   Gender          180000 non-null  object \n",
      " 3   Height          180000 non-null  float64\n",
      " 4   Weight          180000 non-null  float64\n",
      " 5   Blood Type      180000 non-null  object \n",
      " 6   BMI             180000 non-null  float64\n",
      " 7   Temperature     180000 non-null  float64\n",
      " 8   Heart Rate      180000 non-null  float64\n",
      " 9   Blood Pressure  180000 non-null  float64\n",
      " 10  Cholesterol     180000 non-null  float64\n",
      " 11  Diabetes        180000 non-null  object \n",
      " 12  Smoking         180000 non-null  object \n",
      "dtypes: float64(9), object(4)\n",
      "memory usage: 19.8+ MB\n",
      "None\n",
      "7644\n"
     ]
    }
   ],
   "source": [
    "import pandas as pd\n",
    "import numpy as np\n",
    "import matplotlib.pyplot as plt\n",
    "import seaborn as sns\n",
    "\n",
    "#source: https://www.kaggle.com/datasets/slmsshk/medical-students-dataset\n",
    "\n",
    "medical_students_raw = pd.read_csv('medical_students_dataset.csv')\n",
    "\n",
    "print(medical_students_raw.info())\n",
    "print(medical_students_raw.duplicated().sum())"
   ]
  },
  {
   "cell_type": "code",
   "execution_count": 3,
   "id": "289cdb23",
   "metadata": {},
   "outputs": [
    {
     "data": {
      "text/plain": [
       "\"'Amongst the 200,000 entries, 7644 of them appear to be duplicates.'\""
      ]
     },
     "execution_count": 3,
     "metadata": {},
     "output_type": "execute_result"
    }
   ],
   "source": [
    "\"'The dataset has 200,000 entries and 20000 missing values. This represents 10% of the date'\"\n",
    "\"'Amongst the 200,000 entries, 7644 of them appear to be duplicates.'\""
   ]
  },
  {
   "cell_type": "code",
   "execution_count": 52,
   "id": "7dbfa0cb",
   "metadata": {},
   "outputs": [
    {
     "name": "stdout",
     "output_type": "stream",
     "text": [
      "        Student ID   Age  Gender      Height     Weight Blood Type        BMI  \\\n",
      "100007         8.0  28.0    Male  186.489402  52.389752         AB  15.063921   \n",
      "100011        12.0  34.0  Female  182.416302  76.371050         AB  22.950992   \n",
      "100018        19.0  31.0  Female  158.790160  46.829849         AB  18.572723   \n",
      "100022        23.0  29.0  Female  179.909041  90.679436         AB  28.015787   \n",
      "100023        24.0  18.0    Male         NaN  52.521560         AB  13.570402   \n",
      "...            ...   ...     ...         ...        ...        ...        ...   \n",
      "199961     99962.0  31.0    Male  180.859321  43.647709          B  13.343804   \n",
      "199962     99963.0  18.0  Female  180.133710  48.381499          A  14.910401   \n",
      "199965     99966.0  22.0  Female  166.562901  48.684146         AB  17.548137   \n",
      "199973     99974.0  25.0  Female  156.297842  90.690186          B  37.123963   \n",
      "199985     99986.0  23.0  Female  162.884951  82.485778          B  31.089745   \n",
      "\n",
      "        Temperature  Heart Rate  Blood Pressure  Cholesterol Diabetes Smoking  \n",
      "100007    98.227788        85.0           123.0        128.0       No      No  \n",
      "100011    98.118274        86.0            97.0        247.0       No      No  \n",
      "100018    98.784709        92.0           102.0        172.0      NaN      No  \n",
      "100022    98.782269        81.0           108.0        227.0       No     Yes  \n",
      "100023    98.215090        60.0           132.0        217.0       No      No  \n",
      "...             ...         ...             ...          ...      ...     ...  \n",
      "199961    98.675411        68.0            90.0        223.0       No      No  \n",
      "199962    98.104064        71.0           129.0        184.0       No      No  \n",
      "199965    98.776134        95.0           109.0        152.0      Yes      No  \n",
      "199973    98.664591        70.0           132.0        164.0      Yes      No  \n",
      "199985    98.852347        65.0            94.0        188.0       No     Yes  \n",
      "\n",
      "[7644 rows x 13 columns]\n",
      "        Student ID   Age Gender      Height     Weight Blood Type        BMI  \\\n",
      "100007         8.0  28.0   Male  186.489402  52.389752         AB  15.063921   \n",
      "100008         9.0  21.0   Male  155.039678        NaN          B  17.871682   \n",
      "\n",
      "        Temperature  Heart Rate  Blood Pressure  Cholesterol Diabetes Smoking  \n",
      "100007    98.227788        85.0           123.0        128.0       No      No  \n",
      "100008    98.808053        84.0           111.0        243.0       No      No  \n"
     ]
    }
   ],
   "source": [
    "print(medical_students_raw[medical_students_raw.duplicated(keep='first')])\n",
    "print(medical_students_raw[100007:100009])"
   ]
  },
  {
   "cell_type": "code",
   "execution_count": 53,
   "id": "a2428c37",
   "metadata": {},
   "outputs": [
    {
     "name": "stdout",
     "output_type": "stream",
     "text": [
      "Row to Find Duplicates Of:\n",
      "Student ID               8.0\n",
      "Age                     28.0\n",
      "Gender                  Male\n",
      "Height            186.489402\n",
      "Weight             52.389752\n",
      "Blood Type                AB\n",
      "BMI                15.063921\n",
      "Temperature        98.227788\n",
      "Heart Rate              85.0\n",
      "Blood Pressure         123.0\n",
      "Cholesterol            128.0\n",
      "Diabetes                  No\n",
      "Smoking                   No\n",
      "Name: 7, dtype: object\n",
      "\n",
      "Duplicate Rows:\n",
      "        Student ID   Age Gender      Height     Weight Blood Type        BMI  \\\n",
      "7              8.0  28.0   Male  186.489402  52.389752         AB  15.063921   \n",
      "100007         8.0  28.0   Male  186.489402  52.389752         AB  15.063921   \n",
      "\n",
      "        Temperature  Heart Rate  Blood Pressure  Cholesterol Diabetes Smoking  \n",
      "7         98.227788        85.0           123.0        128.0       No      No  \n",
      "100007    98.227788        85.0           123.0        128.0       No      No  \n"
     ]
    }
   ],
   "source": [
    "row_to_find_duplicates = medical_students_raw.iloc[7]\n",
    "\n",
    "# Find rows that are duplicates of the chosen row\n",
    "duplicates = medical_students_raw[medical_students_raw.apply(lambda x: x.equals(row_to_find_duplicates), axis=1)]\n",
    "print(\"Row to Find Duplicates Of:\")\n",
    "print(row_to_find_duplicates)\n",
    "\n",
    "print(\"\\nDuplicate Rows:\")\n",
    "print(duplicates)"
   ]
  },
  {
   "cell_type": "code",
   "execution_count": 6,
   "id": "292179b1",
   "metadata": {},
   "outputs": [
    {
     "name": "stdout",
     "output_type": "stream",
     "text": [
      "<class 'pandas.core.frame.DataFrame'>\n",
      "RangeIndex: 192356 entries, 0 to 192355\n",
      "Data columns (total 13 columns):\n",
      " #   Column          Non-Null Count   Dtype  \n",
      "---  ------          --------------   -----  \n",
      " 0   Student ID      172465 non-null  float64\n",
      " 1   Age             172464 non-null  float64\n",
      " 2   Gender          172432 non-null  object \n",
      " 3   Height          172449 non-null  float64\n",
      " 4   Weight          172455 non-null  float64\n",
      " 5   Blood Type      172440 non-null  object \n",
      " 6   BMI             172456 non-null  float64\n",
      " 7   Temperature     172445 non-null  float64\n",
      " 8   Heart Rate      172453 non-null  float64\n",
      " 9   Blood Pressure  172464 non-null  float64\n",
      " 10  Cholesterol     172463 non-null  float64\n",
      " 11  Diabetes        172451 non-null  object \n",
      " 12  Smoking         172459 non-null  object \n",
      "dtypes: float64(9), object(4)\n",
      "memory usage: 19.1+ MB\n",
      "None\n"
     ]
    }
   ],
   "source": [
    "medical_students = medical_students_raw.drop_duplicates(keep='first', ignore_index=True)\n",
    "print(medical_students.info())"
   ]
  },
  {
   "cell_type": "code",
   "execution_count": 54,
   "id": "cb723286",
   "metadata": {},
   "outputs": [
    {
     "name": "stdout",
     "output_type": "stream",
     "text": [
      "           Student ID            Age  Gender         Height         Weight  \\\n",
      "count   171172.000000  190904.000000  190904  190904.000000  190904.000000   \n",
      "unique            NaN            NaN       3            NaN            NaN   \n",
      "top               NaN            NaN  Female            NaN            NaN   \n",
      "freq              NaN            NaN   85602            NaN            NaN   \n",
      "mean     49983.269571      26.021131     NaN     174.988164     650.810093   \n",
      "std      28882.720283       4.630631     NaN      14.293183    1985.052562   \n",
      "min          1.000000      18.000000     NaN     150.000041      40.000578   \n",
      "25%      24979.000000      22.000000     NaN     162.769223      56.657683   \n",
      "50%      49946.000000      26.000000     NaN     174.943405      72.664369   \n",
      "75%      75010.250000      30.000000     NaN     187.253138      88.861677   \n",
      "max     100000.000000      34.000000     NaN     199.998639    9999.990661   \n",
      "\n",
      "       Blood Type            BMI    Temperature     Heart Rate  \\\n",
      "count      190904  190904.000000  190904.000000  190904.000000   \n",
      "unique          5            NaN            NaN            NaN   \n",
      "top             O            NaN            NaN            NaN   \n",
      "freq        43307            NaN            NaN            NaN   \n",
      "mean          NaN       3.103386      37.000244      79.555887   \n",
      "std           NaN       0.303939       0.255134      10.930601   \n",
      "min           NaN       2.310041      36.251296      60.000000   \n",
      "25%           NaN       2.887497      36.839386      71.000000   \n",
      "50%           NaN       3.120710      36.999636      80.000000   \n",
      "75%           NaN       3.325773      37.162226      88.000000   \n",
      "max           NaN       3.765428      37.751336      99.000000   \n",
      "\n",
      "        Blood Pressure    Cholesterol Diabetes Smoking Cholesterol levels  \n",
      "count    190904.000000  190904.000000   190904  190904             190904  \n",
      "unique             NaN            NaN        3       3                  3  \n",
      "top                NaN            NaN       No      No                Low  \n",
      "freq               NaN            NaN   153986  136861             125044  \n",
      "mean        114.606661     184.460498      NaN     NaN                NaN  \n",
      "std          13.639819      35.553896      NaN     NaN                NaN  \n",
      "min          90.000000     120.000000      NaN     NaN                NaN  \n",
      "25%         104.000000     156.000000      NaN     NaN                NaN  \n",
      "50%         115.000000     184.000000      NaN     NaN                NaN  \n",
      "75%         126.000000     213.000000      NaN     NaN                NaN  \n",
      "max         139.000000     249.000000      NaN     NaN                NaN  \n"
     ]
    }
   ],
   "source": [
    "print(medical_students.describe(include='all'))"
   ]
  },
  {
   "cell_type": "code",
   "execution_count": 55,
   "id": "42212711",
   "metadata": {},
   "outputs": [
    {
     "name": "stdout",
     "output_type": "stream",
     "text": [
      "Female    85602\n",
      "Male      85525\n",
      "ND        19777\n",
      "Name: Gender, dtype: int64\n",
      "O     43307\n",
      "B     43245\n",
      "AB    42327\n",
      "A     42238\n",
      "ND    19787\n",
      "Name: Blood Type, dtype: int64\n",
      "No     153986\n",
      "ND      19753\n",
      "Yes     17165\n",
      "Name: Diabetes, dtype: int64\n",
      "No     136861\n",
      "Yes     34308\n",
      "ND      19735\n",
      "Name: Smoking, dtype: int64\n"
     ]
    }
   ],
   "source": [
    "print(medical_students['Gender'].value_counts(dropna=False))\n",
    "print(medical_students['Blood Type'].value_counts(dropna=False))\n",
    "print(medical_students['Diabetes'].value_counts(dropna=False))\n",
    "print(medical_students['Smoking'].value_counts(dropna=False))"
   ]
  },
  {
   "cell_type": "code",
   "execution_count": 56,
   "id": "1805b5f3",
   "metadata": {},
   "outputs": [
    {
     "name": "stdout",
     "output_type": "stream",
     "text": [
      "Empty DataFrame\n",
      "Columns: [Student ID, Age, Gender, Height, Weight, Blood Type, BMI, Temperature, Heart Rate, Blood Pressure, Cholesterol, Diabetes, Smoking, Cholesterol levels]\n",
      "Index: []\n",
      "Series([], Name: Gender, dtype: int64)\n"
     ]
    }
   ],
   "source": [
    "gender_missing_weight = medical_students[(medical_students['Gender'].notna()) & (medical_students['Weight'].isna())]\n",
    "print(gender_missing_weight)\n",
    "print(gender_missing_weight['Gender'].value_counts())"
   ]
  },
  {
   "cell_type": "code",
   "execution_count": 35,
   "id": "88654019",
   "metadata": {},
   "outputs": [
    {
     "data": {
      "image/png": "[encoded data removed]",
      "text/plain": [
       "<Figure size 1296x432 with 3 Axes>"
      ]
     },
     "metadata": {
      "needs_background": "light"
     },
     "output_type": "display_data"
    }
   ],
   "source": [
    "fix, ax = plt.subplots(1,3, figsize=(18,6))\n",
    "ax1 = sns.boxplot(data=medical_students, x='Height', color='lightgreen', ax=ax[0])\n",
    "ax2 = sns.boxplot(data=medical_students, x='Weight', color='lightgreen', ax=ax[1])\n",
    "ax3 = sns.boxplot(data=medical_students, x='BMI', color='lightgreen', ax=ax[2])\n",
    "\n",
    "#There seems to be an issue in the observations recorded for the variable 'Weight', which itself impacts the BMI"
   ]
  },
  {
   "cell_type": "code",
   "execution_count": 57,
   "id": "b728d8d5",
   "metadata": {},
   "outputs": [],
   "source": [
    "for index, row in medical_students.iterrows():\n",
    "    if row['Weight'] > 4000:\n",
    "        medical_students.loc[index, 'Weight'] = row['Weight']/100"
   ]
  },
  {
   "cell_type": "code",
   "execution_count": 63,
   "id": "61a8ffe5",
   "metadata": {},
   "outputs": [
    {
     "name": "stdout",
     "output_type": "stream",
     "text": [
      "99.99990661273384\n"
     ]
    }
   ],
   "source": [
    "print(medical_students['Weight'].max())"
   ]
  },
  {
   "cell_type": "code",
   "execution_count": 64,
   "id": "f3096387",
   "metadata": {},
   "outputs": [
    {
     "data": {
      "image/png": "[encoded data removed]",
      "text/plain": [
       "<Figure size 1296x432 with 3 Axes>"
      ]
     },
     "metadata": {
      "needs_background": "light"
     },
     "output_type": "display_data"
    }
   ],
   "source": [
    "fix, ax = plt.subplots(1,3, figsize=(18,6))\n",
    "ax1 = sns.boxplot(data=medical_students, x='Height', color='lightgreen', ax=ax[0])\n",
    "ax2 = sns.boxplot(data=medical_students, x='Weight', color='lightgreen', ax=ax[1])\n",
    "ax3 = sns.boxplot(data=medical_students, x='BMI', color='lightgreen', ax=ax[2])"
   ]
  },
  {
   "cell_type": "code",
   "execution_count": 68,
   "id": "7fb1eac3",
   "metadata": {},
   "outputs": [
    {
     "name": "stdout",
     "output_type": "stream",
     "text": [
      "99.99990661273384\n",
      "False    190904\n",
      "Name: Weight, dtype: int64\n"
     ]
    }
   ],
   "source": [
    "#Weight can be calculated from the Height and BMI columns\n",
    "print(medical_students['Weight'].max())\n",
    "for index, row in medical_students.iterrows():\n",
    "    if np.isnan(row['Weight']):\n",
    "        medical_students.at[index, 'Weight'] = row['BMI']*(row['Height']**2 / 100)\n",
    "        \n",
    "print(medical_students['Weight'].isna().value_counts())\n"
   ]
  },
  {
   "cell_type": "code",
   "execution_count": 69,
   "id": "4def4f6f",
   "metadata": {},
   "outputs": [
    {
     "name": "stdout",
     "output_type": "stream",
     "text": [
      "False    190904\n",
      "Name: Height, dtype: int64\n"
     ]
    }
   ],
   "source": [
    "#Height can be calculated from the Weight and BMI columns\n",
    "\n",
    "for index, row in medical_students.iterrows():\n",
    "    if np.isnan(row['Height']):\n",
    "        medical_students.at[index, 'Height'] = np.sqrt(row['Weight']/row['BMI'])*100                           \n",
    "\n",
    "print(medical_students['Height'].isna().value_counts())"
   ]
  },
  {
   "cell_type": "code",
   "execution_count": 70,
   "id": "c7cda7ce",
   "metadata": {},
   "outputs": [
    {
     "name": "stdout",
     "output_type": "stream",
     "text": [
      "False    190904\n",
      "Name: BMI, dtype: int64\n"
     ]
    }
   ],
   "source": [
    "#BMI can be calculated from the Weight and Height columns\n",
    "\n",
    "for index, row in medical_students.iterrows():\n",
    "    if np.isnan(row['BMI']):\n",
    "        medical_students.at[index, 'BMI'] = row['Weight']/ ((row['Height']/100)**2)\n",
    "        \n",
    "print(medical_students['BMI'].isna().value_counts())"
   ]
  },
  {
   "cell_type": "code",
   "execution_count": 71,
   "id": "8eaa51e0",
   "metadata": {},
   "outputs": [
    {
     "name": "stdout",
     "output_type": "stream",
     "text": [
      "                 BMI\n",
      "count  190904.000000\n",
      "mean        3.103386\n",
      "std         0.303939\n",
      "min         2.310041\n",
      "25%         2.887497\n",
      "50%         3.120710\n",
      "75%         3.325773\n",
      "max         3.765428\n",
      "3.7654277720228126\n"
     ]
    },
    {
     "data": {
      "image/png": "[encoded data removed]",
      "text/plain": [
       "<Figure size 432x288 with 1 Axes>"
      ]
     },
     "metadata": {
      "needs_background": "light"
     },
     "output_type": "display_data"
    },
    {
     "data": {
      "image/png": "[encoded data removed]",
      "text/plain": [
       "<Figure size 360x360 with 1 Axes>"
      ]
     },
     "metadata": {
      "needs_background": "light"
     },
     "output_type": "display_data"
    }
   ],
   "source": [
    "print(medical_students[['BMI']].describe())\n",
    "sns.boxplot(data=medical_students, x='BMI', color='lightgreen')\n",
    "sns.displot(medical_students['BMI'], bins=20, color='lightgreen')\n",
    "plt.axvline(x=np.mean(medical_students['BMI']), color='black', linestyle='--', label='Mean')\n",
    "plt.axvline(x=np.median(medical_students['BMI'].dropna()), color='blue', label='Median')\n",
    "plt.legend()\n",
    "print(medical_students['BMI'].max())"
   ]
  },
  {
   "cell_type": "code",
   "execution_count": 18,
   "id": "12ee80ff",
   "metadata": {},
   "outputs": [
    {
     "name": "stdout",
     "output_type": "stream",
     "text": [
      "43.183678929143376\n"
     ]
    },
    {
     "data": {
      "text/plain": [
       "<AxesSubplot:xlabel='BMI'>"
      ]
     },
     "execution_count": 18,
     "metadata": {},
     "output_type": "execute_result"
    },
    {
     "data": {
      "image/png": "[encoded data removed]",
      "text/plain": [
       "<Figure size 432x288 with 1 Axes>"
      ]
     },
     "metadata": {
      "needs_background": "light"
     },
     "output_type": "display_data"
    }
   ],
   "source": [
    "Q1_BMI = medical_students['BMI'].quantile(0.25)\n",
    "Q3_BMI = medical_students['BMI'].quantile(0.75)\n",
    "IQR_BMI = Q3_BMI - Q1_BMI\n",
    "outliers_low_BMI = Q1_BMI - 1.5*IQR_BMI\n",
    "outliers_high_BMI = Q3_BMI + 1.5*IQR_BMI\n",
    "\n",
    "print(outliers_high_BMI)\n",
    "\n",
    "BMI_upper_outliers = medical_students['BMI'] > outliers_high_BMI\n",
    "medical_students = medical_students[~BMI_upper_outliers]\n",
    "sns.boxplot(data=medical_students, x='BMI', color='lightgreen')\n",
    "\n",
    "#Outliers have been removed"
   ]
  },
  {
   "cell_type": "code",
   "execution_count": 72,
   "id": "d6d2217d",
   "metadata": {},
   "outputs": [
    {
     "data": {
      "text/plain": [
       "<matplotlib.legend.Legend at 0x7ff71951a280>"
      ]
     },
     "execution_count": 72,
     "metadata": {},
     "output_type": "execute_result"
    },
    {
     "data": {
      "image/png": "[encoded data removed]",
      "text/plain": [
       "<Figure size 360x360 with 1 Axes>"
      ]
     },
     "metadata": {
      "needs_background": "light"
     },
     "output_type": "display_data"
    }
   ],
   "source": [
    "sns.displot(medical_students['BMI'], bins=20, color='lightgreen')\n",
    "plt.axvline(x=np.mean(medical_students['BMI']), color='black', linestyle='--', label='Mean')\n",
    "plt.axvline(x=np.median(medical_students['BMI'].dropna()), color='blue', label='Median')\n",
    "plt.legend()"
   ]
  },
  {
   "cell_type": "code",
   "execution_count": 80,
   "id": "0b7e60f2",
   "metadata": {},
   "outputs": [],
   "source": [
    "#Converting Temperature observation from Fahrenheit to Celsius\n",
    "#for index, row in medical_students.iterrows():\n",
    " #   medical_students.at[index, 'Temperature'] = (row['Temperature']-32)*5/9"
   ]
  },
  {
   "cell_type": "code",
   "execution_count": 81,
   "id": "6d435ba7",
   "metadata": {},
   "outputs": [
    {
     "data": {
      "image/png": "[encoded data removed]",
      "text/plain": [
       "<Figure size 864x432 with 4 Axes>"
      ]
     },
     "metadata": {
      "needs_background": "light"
     },
     "output_type": "display_data"
    }
   ],
   "source": [
    "fix, ax = plt.subplots(2,2, figsize=(12,6))\n",
    "ax1 = sns.boxplot(data=medical_students, x='Temperature', color='lightgreen', ax=ax[0,0])\n",
    "ax2 = sns.boxplot(data=medical_students, x='Heart Rate', color='lightgreen', ax=ax[0,1])\n",
    "ax3 = sns.boxplot(data=medical_students, x='Blood Pressure', color='lightgreen', ax=ax[1,0])\n",
    "ax4 = sns.boxplot(data=medical_students, x='Cholesterol', color='lightgreen', ax=ax[1,1])\n",
    "\n",
    "plt.tight_layout()"
   ]
  },
  {
   "cell_type": "code",
   "execution_count": 79,
   "id": "cc958ee9",
   "metadata": {},
   "outputs": [
    {
     "name": "stdout",
     "output_type": "stream",
     "text": [
      "3.1306113323014038\n",
      "2.4260017870341914\n"
     ]
    }
   ],
   "source": [
    "print(medical_students['Temperature'].max())\n",
    "print(medical_students['Temperature'].min())"
   ]
  },
  {
   "cell_type": "code",
   "execution_count": 78,
   "id": "09c53f28",
   "metadata": {},
   "outputs": [
    {
     "name": "stdout",
     "output_type": "stream",
     "text": [
      "188379\n",
      "68\n"
     ]
    },
    {
     "data": {
      "text/plain": [
       "<AxesSubplot:xlabel='Temperature'>"
      ]
     },
     "execution_count": 78,
     "metadata": {},
     "output_type": "execute_result"
    },
    {
     "data": {
      "image/png": "[encoded data removed]",
      "text/plain": [
       "<Figure size 432x288 with 1 Axes>"
      ]
     },
     "metadata": {
      "needs_background": "light"
     },
     "output_type": "display_data"
    }
   ],
   "source": [
    "Q1_temp = medical_students['Temperature'].quantile(0.25)\n",
    "Q3_temp = medical_students['Temperature'].quantile(0.75)\n",
    "IQR_temp = Q3_temp - Q1_temp\n",
    "outliers_low_temp = Q1_temp - 1.5*IQR_temp\n",
    "outliers_high_temp = Q3_temp + 1.5*IQR_temp\n",
    "\n",
    "print(len(medical_students))\n",
    "print(len(medical_students[(medical_students['Temperature'] < outliers_low_temp) | (medical_students['Temperature'] > outliers_high_temp)]))\n",
    "\n",
    "temp_upper_outliers = medical_students['Temperature'] > outliers_high_temp\n",
    "temp_lower_outliers = medical_students['Temperature'] < outliers_low_temp\n",
    "medical_students = medical_students[~ (temp_upper_outliers| temp_lower_outliers)]\n",
    "sns.boxplot(data=medical_students, x='Temperature', color='lightgreen')\n",
    "\n",
    "#Outliers have been removed"
   ]
  },
  {
   "cell_type": "code",
   "execution_count": 24,
   "id": "8954a01a",
   "metadata": {},
   "outputs": [
    {
     "name": "stdout",
     "output_type": "stream",
     "text": [
      "190904\n"
     ]
    }
   ],
   "source": [
    "print(len(medical_students))"
   ]
  },
  {
   "cell_type": "code",
   "execution_count": 25,
   "id": "bcb7b418",
   "metadata": {},
   "outputs": [
    {
     "data": {
      "image/png": "[encoded data removed]",
      "text/plain": [
       "<Figure size 864x432 with 7 Axes>"
      ]
     },
     "metadata": {
      "needs_background": "light"
     },
     "output_type": "display_data"
    }
   ],
   "source": [
    "fig, ax = plt.subplots(4,2, figsize=(12,6))\n",
    "ax1 = sns.histplot(medical_students['Temperature'], bins=20, color='lightgreen', ax=ax[0,0])\n",
    "ax2 = sns.histplot(medical_students['Heart Rate'], bins=20, color='lightgreen', ax=ax[0,1])\n",
    "ax3 = sns.histplot(medical_students['Blood Pressure'], bins=20, color='lightgreen', ax=ax[1,0])\n",
    "ax4 = sns.histplot(medical_students['Cholesterol'], bins=20, color='lightgreen', ax=ax[1,1])\n",
    "ax5 = sns.histplot(medical_students['BMI'], bins=20, color='lightgreen', ax=ax[2, 0])\n",
    "ax6 = sns.histplot(medical_students['Height'], bins=20, color='lightgreen', ax=ax[2, 1])\n",
    "ax7 = sns.histplot(medical_students['Weight'], bins=20, color='lightgreen', ax=ax[3, 0])\n",
    "\n",
    "\n",
    "fig.delaxes(ax[3, 1])\n",
    "plt.tight_layout()\n",
    "plt.show()"
   ]
  },
  {
   "cell_type": "code",
   "execution_count": 26,
   "id": "32f86af5",
   "metadata": {},
   "outputs": [
    {
     "data": {
      "text/plain": [
       "<matplotlib.lines.Line2D at 0x7ff730429ca0>"
      ]
     },
     "execution_count": 26,
     "metadata": {},
     "output_type": "execute_result"
    },
    {
     "data": {
      "image/png": "[encoded data removed]",
      "text/plain": [
       "<Figure size 432x288 with 1 Axes>"
      ]
     },
     "metadata": {
      "needs_background": "light"
     },
     "output_type": "display_data"
    }
   ],
   "source": [
    "medical_students['BMI'] = np.log(medical_students['BMI'])\n",
    "\n",
    "sns.histplot(medical_students['BMI'], bins=20, color='lightgreen')\n",
    "plt.axvline(x=np.mean(medical_students['BMI']), color='black', linestyle='--', label='Mean')\n",
    "plt.axvline(x=np.median(medical_students['BMI'].dropna()), color='blue', linestyle='-', label='Median')"
   ]
  },
  {
   "cell_type": "code",
   "execution_count": 27,
   "id": "5fa3f730",
   "metadata": {},
   "outputs": [],
   "source": [
    "#Filling missing values that could not be calculated with the other variables\n",
    "medical_students['Age'] = medical_students['Age'].fillna(medical_students['Age'].median())\n",
    "medical_students['Height'] = medical_students['Height'].fillna(medical_students['Height'].median())\n",
    "medical_students['Weight'] = medical_students['Weight'].fillna(medical_students['Weight'].median())\n",
    "medical_students['BMI'] = medical_students['BMI'].fillna(medical_students['BMI'].median())\n",
    "medical_students['Temperature'] = medical_students['Temperature'].fillna(medical_students['Temperature'].median())\n",
    "medical_students['Heart Rate'] = medical_students['Heart Rate'].fillna(medical_students['Heart Rate'].median())\n",
    "medical_students['Cholesterol'] = medical_students['Cholesterol'].fillna(medical_students['Cholesterol'].median())\n",
    "medical_students['Blood Pressure'] = medical_students['Blood Pressure'].fillna(medical_students['Blood Pressure'].median())"
   ]
  },
  {
   "cell_type": "code",
   "execution_count": 28,
   "id": "a38b8ae8",
   "metadata": {},
   "outputs": [],
   "source": [
    "for index, row in medical_students.iterrows():\n",
    "    if pd.isna(row['Blood Type']):\n",
    "        medical_students.at[index, 'Blood Type'] = 'ND'\n",
    "\n",
    "for index, row in medical_students.iterrows():\n",
    "    if pd.isna(row['Gender']):\n",
    "        medical_students.at[index, 'Gender'] = 'ND'\n",
    "        \n",
    "for index, row in medical_students.iterrows():\n",
    "    if pd.isna(row['Diabetes']):\n",
    "        medical_students.at[index, 'Diabetes'] = 'ND'\n",
    "\n",
    "for index, row in medical_students.iterrows():\n",
    "    if pd.isna(row['Smoking']):\n",
    "        medical_students.at[index, 'Smoking'] = 'ND'"
   ]
  },
  {
   "cell_type": "code",
   "execution_count": 44,
   "id": "fd49806a",
   "metadata": {},
   "outputs": [
    {
     "name": "stdout",
     "output_type": "stream",
     "text": [
      "Index(['Student ID', 'Age', 'Gender', 'Height', 'Weight', 'Blood Type', 'BMI',\n",
      "       'Temperature', 'Heart Rate', 'Blood Pressure', 'Cholesterol',\n",
      "       'Diabetes', 'Smoking', 'Cholesterol levels'],\n",
      "      dtype='object')\n",
      "Student ID            19732\n",
      "Age                       0\n",
      "Gender                    0\n",
      "Height                    0\n",
      "Weight                    0\n",
      "Blood Type                0\n",
      "BMI                       0\n",
      "Temperature               0\n",
      "Heart Rate                0\n",
      "Blood Pressure            0\n",
      "Cholesterol               0\n",
      "Diabetes                  0\n",
      "Smoking                   0\n",
      "Cholesterol levels        0\n",
      "dtype: int64\n"
     ]
    }
   ],
   "source": [
    "print(medical_students.columns)\n",
    "print(medical_students.isnull().sum())"
   ]
  },
  {
   "cell_type": "code",
   "execution_count": 30,
   "id": "9516e662",
   "metadata": {},
   "outputs": [
    {
     "data": {
      "image/png": "[encoded data removed]",
      "text/plain": [
       "<Figure size 864x288 with 4 Axes>"
      ]
     },
     "metadata": {
      "needs_background": "light"
     },
     "output_type": "display_data"
    }
   ],
   "source": [
    "pastel_palette = ['#CCE2CB', '#ECD5E3', '#FFC8A2']\n",
    "students_data = ['Gender', 'Blood Type', 'Diabetes', 'Smoking']\n",
    "\n",
    "fig, ax = plt.subplots(1, len(students_data), figsize=(12, 4))\n",
    "for i, column in enumerate(students_data):\n",
    "    count_data = medical_students[column].value_counts().sort_values(ascending=False)\n",
    "    sns.countplot(data=medical_students, x=column, order=count_data.index, palette=pastel_palette, ax=ax[i])\n",
    "    \n",
    "plt.tight_layout()"
   ]
  },
  {
   "cell_type": "code",
   "execution_count": 31,
   "id": "3b7421a5",
   "metadata": {},
   "outputs": [],
   "source": [
    "for index, row in medical_students.iterrows():\n",
    "    chol = row['Cholesterol']\n",
    "    if pd.isna(chol):\n",
    "        medical_students.at[index, 'Cholesterol levels'] = 'Other'\n",
    "    elif chol < 200:\n",
    "        medical_students.at[index, 'Cholesterol levels'] = 'Low'\n",
    "    elif 200 <= chol < 240:\n",
    "        medical_students.at[index, 'Cholesterol levels'] = 'Borderline to moderately elevated'\n",
    "    else:\n",
    "        medical_students.at[index, 'Cholesterol levels'] = 'High'"
   ]
  },
  {
   "cell_type": "code",
   "execution_count": 32,
   "id": "acebc81f",
   "metadata": {},
   "outputs": [
    {
     "data": {
      "image/png": "[encoded data removed]",
      "text/plain": [
       "<Figure size 864x288 with 4 Axes>"
      ]
     },
     "metadata": {
      "needs_background": "light"
     },
     "output_type": "display_data"
    }
   ],
   "source": [
    "fig, ax = plt.subplots(1, len(students_data), figsize=(12, 4))\n",
    "for i, column in enumerate(students_data):\n",
    "    sns.countplot(data=medical_students, x=column, hue='Cholesterol levels', palette=pastel_palette, ax=ax[i])\n",
    "    ax[i].get_legend().remove()\n",
    "\n",
    "handles, labels = ax[0].get_legend_handles_labels()\n",
    "fig.legend(handles, labels, loc='lower center', bbox_to_anchor=(0.5, -0.25))\n",
    "\n",
    "plt.tight_layout()"
   ]
  },
  {
   "cell_type": "code",
   "execution_count": 33,
   "id": "8d08ae4b",
   "metadata": {},
   "outputs": [
    {
     "name": "stdout",
     "output_type": "stream",
     "text": [
      "Low                                  125044\n",
      "Borderline to moderately elevated     52569\n",
      "High                                  13291\n",
      "Name: Cholesterol levels, dtype: int64\n"
     ]
    }
   ],
   "source": [
    "print(medical_students['Cholesterol levels'].value_counts())"
   ]
  },
  {
   "cell_type": "code",
   "execution_count": 49,
   "id": "0c5364a6",
   "metadata": {},
   "outputs": [
    {
     "name": "stdout",
     "output_type": "stream",
     "text": [
      "<bound method DataFrame.info of         Student ID   Age  Gender      Height     Weight Blood Type       BMI  \\\n",
      "0              1.0  18.0  Female  161.777924  72.354947          O  3.319475   \n",
      "1              2.0  26.0    Male  152.069157  47.630941          B  3.025152   \n",
      "2              3.0  32.0  Female  182.537664  55.741083          A  2.817145   \n",
      "3              NaN  30.0    Male  182.112867  63.332207          B  2.949481   \n",
      "4              5.0  23.0  Female  174.943405  46.234173          O  3.120710   \n",
      "...            ...   ...     ...         ...        ...        ...       ...   \n",
      "192351         NaN  24.0    Male  176.503260  95.756997          B  3.425475   \n",
      "192352     99997.0  29.0  Female  163.917675  45.225194         ND  2.823266   \n",
      "192353     99998.0  34.0  Female  173.275523  99.648914         ND  3.502228   \n",
      "192354     99999.0  30.0  Female  156.446944  50.142824          A  3.019782   \n",
      "192355    100000.0  20.0  Female  153.927409  99.928405          O  3.741832   \n",
      "\n",
      "        Temperature  Heart Rate  Blood Pressure  Cholesterol Diabetes Smoking  \\\n",
      "0         36.999636        95.0           109.0        203.0       No      ND   \n",
      "1         37.063876        93.0           104.0        163.0       No      No   \n",
      "2         36.811274        76.0           130.0        216.0      Yes      No   \n",
      "3         37.133114        99.0           112.0        141.0       No     Yes   \n",
      "4         36.933338        95.0           115.0        231.0       No      No   \n",
      "...             ...         ...             ...          ...      ...     ...   \n",
      "192351    37.317047        65.0           121.0        130.0       No      No   \n",
      "192352    36.592103        62.0           125.0        198.0       No     Yes   \n",
      "192353    37.093450        60.0            90.0        154.0       ND      No   \n",
      "192354    37.219007        61.0           106.0        225.0       No      No   \n",
      "192355    36.997676        95.0           133.0        132.0       ND      No   \n",
      "\n",
      "                       Cholesterol levels  \n",
      "0       Borderline to moderately elevated  \n",
      "1                                     Low  \n",
      "2       Borderline to moderately elevated  \n",
      "3                                     Low  \n",
      "4       Borderline to moderately elevated  \n",
      "...                                   ...  \n",
      "192351                                Low  \n",
      "192352                                Low  \n",
      "192353                                Low  \n",
      "192354  Borderline to moderately elevated  \n",
      "192355                                Low  \n",
      "\n",
      "[190904 rows x 14 columns]>\n"
     ]
    }
   ],
   "source": [
    "print(medical_students.info)\n"
   ]
  },
  {
   "cell_type": "code",
   "execution_count": 50,
   "id": "0cccd13a",
   "metadata": {},
   "outputs": [],
   "source": [
    "medical_students.to_csv('medical_students_dataset_cleaned.csv', index=False, encoding='utf-8')"
   ]
  },
  {
   "cell_type": "code",
   "execution_count": null,
   "id": "54ae461f",
   "metadata": {},
   "outputs": [],
   "source": []
  }
 ],
 "metadata": {
  "kernelspec": {
   "display_name": "Python 3 (ipykernel)",
   "language": "python",
   "name": "python3"
  },
  "language_info": {
   "codemirror_mode": {
    "name": "ipython",
    "version": 3
   },
   "file_extension": ".py",
   "mimetype": "text/x-python",
   "name": "python",
   "nbconvert_exporter": "python",
   "pygments_lexer": "ipython3",
   "version": "3.9.12"
  }
 },
 "nbformat": 4,
 "nbformat_minor": 5
}
